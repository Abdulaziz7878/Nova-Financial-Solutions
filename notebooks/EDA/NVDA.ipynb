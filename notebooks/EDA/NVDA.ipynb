{
 "cells": [
  {
   "cell_type": "code",
   "execution_count": 1,
   "metadata": {},
   "outputs": [],
   "source": [
    "import pandas as pd\n",
    "import numpy as np\n",
    "import seaborn as sns\n",
    "import matplotlib.pyplot as plt\n",
    "import matplotlib.cm as cm"
   ]
  },
  {
   "cell_type": "code",
   "execution_count": 2,
   "metadata": {},
   "outputs": [],
   "source": [
    "data = pd.read_csv(\"../../Data/yfinance_data/NVDA_historical_data.csv\")"
   ]
  },
  {
   "cell_type": "markdown",
   "metadata": {},
   "source": [
    "Getting basic information"
   ]
  },
  {
   "cell_type": "code",
   "execution_count": 3,
   "metadata": {},
   "outputs": [
    {
     "data": {
      "text/html": [
       "<div>\n",
       "<style scoped>\n",
       "    .dataframe tbody tr th:only-of-type {\n",
       "        vertical-align: middle;\n",
       "    }\n",
       "\n",
       "    .dataframe tbody tr th {\n",
       "        vertical-align: top;\n",
       "    }\n",
       "\n",
       "    .dataframe thead th {\n",
       "        text-align: right;\n",
       "    }\n",
       "</style>\n",
       "<table border=\"1\" class=\"dataframe\">\n",
       "  <thead>\n",
       "    <tr style=\"text-align: right;\">\n",
       "      <th></th>\n",
       "      <th>Date</th>\n",
       "      <th>Open</th>\n",
       "      <th>High</th>\n",
       "      <th>Low</th>\n",
       "      <th>Close</th>\n",
       "      <th>Adj Close</th>\n",
       "      <th>Volume</th>\n",
       "      <th>Dividends</th>\n",
       "      <th>Stock Splits</th>\n",
       "    </tr>\n",
       "  </thead>\n",
       "  <tbody>\n",
       "    <tr>\n",
       "      <th>0</th>\n",
       "      <td>1999-01-22</td>\n",
       "      <td>0.043750</td>\n",
       "      <td>0.048828</td>\n",
       "      <td>0.038802</td>\n",
       "      <td>0.041016</td>\n",
       "      <td>0.037621</td>\n",
       "      <td>2714688000</td>\n",
       "      <td>0.0</td>\n",
       "      <td>0.0</td>\n",
       "    </tr>\n",
       "    <tr>\n",
       "      <th>1</th>\n",
       "      <td>1999-01-25</td>\n",
       "      <td>0.044271</td>\n",
       "      <td>0.045833</td>\n",
       "      <td>0.041016</td>\n",
       "      <td>0.045313</td>\n",
       "      <td>0.041562</td>\n",
       "      <td>510480000</td>\n",
       "      <td>0.0</td>\n",
       "      <td>0.0</td>\n",
       "    </tr>\n",
       "    <tr>\n",
       "      <th>2</th>\n",
       "      <td>1999-01-26</td>\n",
       "      <td>0.045833</td>\n",
       "      <td>0.046745</td>\n",
       "      <td>0.041146</td>\n",
       "      <td>0.041797</td>\n",
       "      <td>0.038337</td>\n",
       "      <td>343200000</td>\n",
       "      <td>0.0</td>\n",
       "      <td>0.0</td>\n",
       "    </tr>\n",
       "    <tr>\n",
       "      <th>3</th>\n",
       "      <td>1999-01-27</td>\n",
       "      <td>0.041927</td>\n",
       "      <td>0.042969</td>\n",
       "      <td>0.039583</td>\n",
       "      <td>0.041667</td>\n",
       "      <td>0.038218</td>\n",
       "      <td>244368000</td>\n",
       "      <td>0.0</td>\n",
       "      <td>0.0</td>\n",
       "    </tr>\n",
       "    <tr>\n",
       "      <th>4</th>\n",
       "      <td>1999-01-28</td>\n",
       "      <td>0.041667</td>\n",
       "      <td>0.041927</td>\n",
       "      <td>0.041276</td>\n",
       "      <td>0.041536</td>\n",
       "      <td>0.038098</td>\n",
       "      <td>227520000</td>\n",
       "      <td>0.0</td>\n",
       "      <td>0.0</td>\n",
       "    </tr>\n",
       "  </tbody>\n",
       "</table>\n",
       "</div>"
      ],
      "text/plain": [
       "         Date      Open      High       Low     Close  Adj Close      Volume  \\\n",
       "0  1999-01-22  0.043750  0.048828  0.038802  0.041016   0.037621  2714688000   \n",
       "1  1999-01-25  0.044271  0.045833  0.041016  0.045313   0.041562   510480000   \n",
       "2  1999-01-26  0.045833  0.046745  0.041146  0.041797   0.038337   343200000   \n",
       "3  1999-01-27  0.041927  0.042969  0.039583  0.041667   0.038218   244368000   \n",
       "4  1999-01-28  0.041667  0.041927  0.041276  0.041536   0.038098   227520000   \n",
       "\n",
       "   Dividends  Stock Splits  \n",
       "0        0.0           0.0  \n",
       "1        0.0           0.0  \n",
       "2        0.0           0.0  \n",
       "3        0.0           0.0  \n",
       "4        0.0           0.0  "
      ]
     },
     "execution_count": 3,
     "metadata": {},
     "output_type": "execute_result"
    }
   ],
   "source": [
    "data.head()"
   ]
  },
  {
   "cell_type": "code",
   "execution_count": 4,
   "metadata": {},
   "outputs": [
    {
     "name": "stdout",
     "output_type": "stream",
     "text": [
      "<class 'pandas.core.frame.DataFrame'>\n",
      "RangeIndex: 6421 entries, 0 to 6420\n",
      "Data columns (total 9 columns):\n",
      " #   Column        Non-Null Count  Dtype  \n",
      "---  ------        --------------  -----  \n",
      " 0   Date          6421 non-null   object \n",
      " 1   Open          6421 non-null   float64\n",
      " 2   High          6421 non-null   float64\n",
      " 3   Low           6421 non-null   float64\n",
      " 4   Close         6421 non-null   float64\n",
      " 5   Adj Close     6421 non-null   float64\n",
      " 6   Volume        6421 non-null   int64  \n",
      " 7   Dividends     6421 non-null   float64\n",
      " 8   Stock Splits  6421 non-null   float64\n",
      "dtypes: float64(7), int64(1), object(1)\n",
      "memory usage: 451.6+ KB\n"
     ]
    }
   ],
   "source": [
    "data.info()"
   ]
  },
  {
   "cell_type": "code",
   "execution_count": 5,
   "metadata": {},
   "outputs": [
    {
     "data": {
      "text/plain": [
       "(6421, 9)"
      ]
     },
     "execution_count": 5,
     "metadata": {},
     "output_type": "execute_result"
    }
   ],
   "source": [
    "data.shape"
   ]
  },
  {
   "cell_type": "markdown",
   "metadata": {},
   "source": [
    "Summary statistics"
   ]
  },
  {
   "cell_type": "code",
   "execution_count": 6,
   "metadata": {},
   "outputs": [
    {
     "data": {
      "text/html": [
       "<div>\n",
       "<style scoped>\n",
       "    .dataframe tbody tr th:only-of-type {\n",
       "        vertical-align: middle;\n",
       "    }\n",
       "\n",
       "    .dataframe tbody tr th {\n",
       "        vertical-align: top;\n",
       "    }\n",
       "\n",
       "    .dataframe thead th {\n",
       "        text-align: right;\n",
       "    }\n",
       "</style>\n",
       "<table border=\"1\" class=\"dataframe\">\n",
       "  <thead>\n",
       "    <tr style=\"text-align: right;\">\n",
       "      <th></th>\n",
       "      <th>Open</th>\n",
       "      <th>High</th>\n",
       "      <th>Low</th>\n",
       "      <th>Close</th>\n",
       "      <th>Adj Close</th>\n",
       "      <th>Volume</th>\n",
       "      <th>Dividends</th>\n",
       "      <th>Stock Splits</th>\n",
       "    </tr>\n",
       "  </thead>\n",
       "  <tbody>\n",
       "    <tr>\n",
       "      <th>count</th>\n",
       "      <td>6421.000000</td>\n",
       "      <td>6421.000000</td>\n",
       "      <td>6421.000000</td>\n",
       "      <td>6421.000000</td>\n",
       "      <td>6421.000000</td>\n",
       "      <td>6.421000e+03</td>\n",
       "      <td>6421.000000</td>\n",
       "      <td>6421.000000</td>\n",
       "    </tr>\n",
       "    <tr>\n",
       "      <th>mean</th>\n",
       "      <td>6.207884</td>\n",
       "      <td>6.320466</td>\n",
       "      <td>6.085095</td>\n",
       "      <td>6.207702</td>\n",
       "      <td>6.181334</td>\n",
       "      <td>6.060791e+08</td>\n",
       "      <td>0.000025</td>\n",
       "      <td>0.003348</td>\n",
       "    </tr>\n",
       "    <tr>\n",
       "      <th>std</th>\n",
       "      <td>16.138328</td>\n",
       "      <td>16.424862</td>\n",
       "      <td>15.794914</td>\n",
       "      <td>16.118517</td>\n",
       "      <td>16.121352</td>\n",
       "      <td>4.323482e+08</td>\n",
       "      <td>0.000316</td>\n",
       "      <td>0.142397</td>\n",
       "    </tr>\n",
       "    <tr>\n",
       "      <th>min</th>\n",
       "      <td>0.034896</td>\n",
       "      <td>0.035547</td>\n",
       "      <td>0.033333</td>\n",
       "      <td>0.034115</td>\n",
       "      <td>0.031291</td>\n",
       "      <td>1.968000e+07</td>\n",
       "      <td>0.000000</td>\n",
       "      <td>0.000000</td>\n",
       "    </tr>\n",
       "    <tr>\n",
       "      <th>25%</th>\n",
       "      <td>0.277500</td>\n",
       "      <td>0.286250</td>\n",
       "      <td>0.269500</td>\n",
       "      <td>0.276750</td>\n",
       "      <td>0.253843</td>\n",
       "      <td>3.456350e+08</td>\n",
       "      <td>0.000000</td>\n",
       "      <td>0.000000</td>\n",
       "    </tr>\n",
       "    <tr>\n",
       "      <th>50%</th>\n",
       "      <td>0.457250</td>\n",
       "      <td>0.464750</td>\n",
       "      <td>0.450750</td>\n",
       "      <td>0.457000</td>\n",
       "      <td>0.427637</td>\n",
       "      <td>5.070000e+08</td>\n",
       "      <td>0.000000</td>\n",
       "      <td>0.000000</td>\n",
       "    </tr>\n",
       "    <tr>\n",
       "      <th>75%</th>\n",
       "      <td>4.182500</td>\n",
       "      <td>4.235750</td>\n",
       "      <td>4.116500</td>\n",
       "      <td>4.175000</td>\n",
       "      <td>4.130434</td>\n",
       "      <td>7.362000e+08</td>\n",
       "      <td>0.000000</td>\n",
       "      <td>0.000000</td>\n",
       "    </tr>\n",
       "    <tr>\n",
       "      <th>max</th>\n",
       "      <td>139.800003</td>\n",
       "      <td>140.759995</td>\n",
       "      <td>132.419998</td>\n",
       "      <td>135.580002</td>\n",
       "      <td>135.580002</td>\n",
       "      <td>9.230856e+09</td>\n",
       "      <td>0.010000</td>\n",
       "      <td>10.000000</td>\n",
       "    </tr>\n",
       "  </tbody>\n",
       "</table>\n",
       "</div>"
      ],
      "text/plain": [
       "              Open         High          Low        Close    Adj Close  \\\n",
       "count  6421.000000  6421.000000  6421.000000  6421.000000  6421.000000   \n",
       "mean      6.207884     6.320466     6.085095     6.207702     6.181334   \n",
       "std      16.138328    16.424862    15.794914    16.118517    16.121352   \n",
       "min       0.034896     0.035547     0.033333     0.034115     0.031291   \n",
       "25%       0.277500     0.286250     0.269500     0.276750     0.253843   \n",
       "50%       0.457250     0.464750     0.450750     0.457000     0.427637   \n",
       "75%       4.182500     4.235750     4.116500     4.175000     4.130434   \n",
       "max     139.800003   140.759995   132.419998   135.580002   135.580002   \n",
       "\n",
       "             Volume    Dividends  Stock Splits  \n",
       "count  6.421000e+03  6421.000000   6421.000000  \n",
       "mean   6.060791e+08     0.000025      0.003348  \n",
       "std    4.323482e+08     0.000316      0.142397  \n",
       "min    1.968000e+07     0.000000      0.000000  \n",
       "25%    3.456350e+08     0.000000      0.000000  \n",
       "50%    5.070000e+08     0.000000      0.000000  \n",
       "75%    7.362000e+08     0.000000      0.000000  \n",
       "max    9.230856e+09     0.010000     10.000000  "
      ]
     },
     "execution_count": 6,
     "metadata": {},
     "output_type": "execute_result"
    }
   ],
   "source": [
    "data.describe()"
   ]
  },
  {
   "cell_type": "code",
   "execution_count": 7,
   "metadata": {},
   "outputs": [
    {
     "data": {
      "text/plain": [
       "Index(['Date', 'Open', 'High', 'Low', 'Close', 'Adj Close', 'Volume',\n",
       "       'Dividends', 'Stock Splits'],\n",
       "      dtype='object')"
      ]
     },
     "execution_count": 7,
     "metadata": {},
     "output_type": "execute_result"
    }
   ],
   "source": [
    "data.columns"
   ]
  },
  {
   "cell_type": "markdown",
   "metadata": {},
   "source": [
    "Looking for missing values"
   ]
  },
  {
   "cell_type": "code",
   "execution_count": 8,
   "metadata": {},
   "outputs": [
    {
     "data": {
      "text/plain": [
       "Date            0\n",
       "Open            0\n",
       "High            0\n",
       "Low             0\n",
       "Close           0\n",
       "Adj Close       0\n",
       "Volume          0\n",
       "Dividends       0\n",
       "Stock Splits    0\n",
       "dtype: int64"
      ]
     },
     "execution_count": 8,
     "metadata": {},
     "output_type": "execute_result"
    }
   ],
   "source": [
    "data.isnull().sum()"
   ]
  },
  {
   "cell_type": "markdown",
   "metadata": {},
   "source": [
    "Checking for outliers"
   ]
  },
  {
   "cell_type": "code",
   "execution_count": 9,
   "metadata": {},
   "outputs": [],
   "source": [
    "def outliers(c):\n",
    "  z_scores = (data[c] - data[c].mean()) / data[c].std()\n",
    "  outlier = data[np.abs(z_scores) > 3]\n",
    "  print(c,\" outliers\\n\",outlier[c], \"\\n\\n\")"
   ]
  },
  {
   "cell_type": "code",
   "execution_count": 10,
   "metadata": {},
   "outputs": [
    {
     "name": "stdout",
     "output_type": "stream",
     "text": [
      "Open  outliers\n",
      " 6283     54.999001\n",
      "6285     55.018002\n",
      "6286     56.347000\n",
      "6287     57.259998\n",
      "6288     57.988998\n",
      "           ...    \n",
      "6416    119.169998\n",
      "6417    113.040001\n",
      "6418    116.190002\n",
      "6419    113.690002\n",
      "6420    111.519997\n",
      "Name: Open, Length: 137, dtype: float64 \n",
      "\n",
      "\n",
      "High  outliers\n",
      " 6285     56.834999\n",
      "6286     56.471001\n",
      "6287     57.599998\n",
      "6288     59.500000\n",
      "6289     60.331001\n",
      "           ...    \n",
      "6416    119.949997\n",
      "6417    116.629997\n",
      "6418    116.199997\n",
      "6419    116.279999\n",
      "6420    111.989998\n",
      "Name: High, Length: 136, dtype: float64 \n",
      "\n",
      "\n",
      "Low  outliers\n",
      " 6282     53.488998\n",
      "6283     53.560001\n",
      "6284     54.330002\n",
      "6285     54.900002\n",
      "6286     54.740002\n",
      "           ...    \n",
      "6416    113.440002\n",
      "6417    106.300003\n",
      "6418    111.580002\n",
      "6419    111.300003\n",
      "6420    102.540001\n",
      "Name: Low, Length: 139, dtype: float64 \n",
      "\n",
      "\n",
      "Close  outliers\n",
      " 6283     54.821999\n",
      "6284     54.709999\n",
      "6285     56.382000\n",
      "6286     56.053001\n",
      "6287     57.106998\n",
      "           ...    \n",
      "6416    114.250000\n",
      "6417    112.279999\n",
      "6418    113.059998\n",
      "6419    111.589996\n",
      "6420    103.730003\n",
      "Name: Close, Length: 138, dtype: float64 \n",
      "\n",
      "\n",
      "Volume  outliers\n",
      " 0       2714688000\n",
      "145     1966992000\n",
      "198     2011680000\n",
      "210     2165184000\n",
      "283     1952208000\n",
      "           ...    \n",
      "4604    2129096000\n",
      "4605    1939792000\n",
      "4625    3692928000\n",
      "4989    1963520000\n",
      "5035    2511528000\n",
      "Name: Volume, Length: 107, dtype: int64 \n",
      "\n",
      "\n"
     ]
    }
   ],
   "source": [
    "outliers(\"Open\")\n",
    "outliers(\"High\")\n",
    "outliers(\"Low\")\n",
    "outliers(\"Close\")\n",
    "outliers(\"Volume\")"
   ]
  }
 ],
 "metadata": {
  "kernelspec": {
   "display_name": "week1",
   "language": "python",
   "name": "python3"
  },
  "language_info": {
   "codemirror_mode": {
    "name": "ipython",
    "version": 3
   },
   "file_extension": ".py",
   "mimetype": "text/x-python",
   "name": "python",
   "nbconvert_exporter": "python",
   "pygments_lexer": "ipython3",
   "version": "3.12.5"
  }
 },
 "nbformat": 4,
 "nbformat_minor": 2
}
