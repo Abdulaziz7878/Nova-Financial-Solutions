{
 "cells": [
  {
   "cell_type": "code",
   "execution_count": 1,
   "metadata": {},
   "outputs": [],
   "source": [
    "import pandas as pd\n",
    "import numpy as np\n",
    "import seaborn as sns\n",
    "import matplotlib.pyplot as plt\n",
    "import matplotlib.cm as cm"
   ]
  },
  {
   "cell_type": "code",
   "execution_count": 2,
   "metadata": {},
   "outputs": [],
   "source": [
    "data = pd.read_csv(\"../../Data/yfinance_data/TSLA_historical_data.csv\")"
   ]
  },
  {
   "cell_type": "markdown",
   "metadata": {},
   "source": [
    "Getting basic information"
   ]
  },
  {
   "cell_type": "code",
   "execution_count": 3,
   "metadata": {},
   "outputs": [
    {
     "data": {
      "text/html": [
       "<div>\n",
       "<style scoped>\n",
       "    .dataframe tbody tr th:only-of-type {\n",
       "        vertical-align: middle;\n",
       "    }\n",
       "\n",
       "    .dataframe tbody tr th {\n",
       "        vertical-align: top;\n",
       "    }\n",
       "\n",
       "    .dataframe thead th {\n",
       "        text-align: right;\n",
       "    }\n",
       "</style>\n",
       "<table border=\"1\" class=\"dataframe\">\n",
       "  <thead>\n",
       "    <tr style=\"text-align: right;\">\n",
       "      <th></th>\n",
       "      <th>Date</th>\n",
       "      <th>Open</th>\n",
       "      <th>High</th>\n",
       "      <th>Low</th>\n",
       "      <th>Close</th>\n",
       "      <th>Adj Close</th>\n",
       "      <th>Volume</th>\n",
       "      <th>Dividends</th>\n",
       "      <th>Stock Splits</th>\n",
       "    </tr>\n",
       "  </thead>\n",
       "  <tbody>\n",
       "    <tr>\n",
       "      <th>0</th>\n",
       "      <td>2010-06-29</td>\n",
       "      <td>1.266667</td>\n",
       "      <td>1.666667</td>\n",
       "      <td>1.169333</td>\n",
       "      <td>1.592667</td>\n",
       "      <td>1.592667</td>\n",
       "      <td>281494500</td>\n",
       "      <td>0.0</td>\n",
       "      <td>0.0</td>\n",
       "    </tr>\n",
       "    <tr>\n",
       "      <th>1</th>\n",
       "      <td>2010-06-30</td>\n",
       "      <td>1.719333</td>\n",
       "      <td>2.028000</td>\n",
       "      <td>1.553333</td>\n",
       "      <td>1.588667</td>\n",
       "      <td>1.588667</td>\n",
       "      <td>257806500</td>\n",
       "      <td>0.0</td>\n",
       "      <td>0.0</td>\n",
       "    </tr>\n",
       "    <tr>\n",
       "      <th>2</th>\n",
       "      <td>2010-07-01</td>\n",
       "      <td>1.666667</td>\n",
       "      <td>1.728000</td>\n",
       "      <td>1.351333</td>\n",
       "      <td>1.464000</td>\n",
       "      <td>1.464000</td>\n",
       "      <td>123282000</td>\n",
       "      <td>0.0</td>\n",
       "      <td>0.0</td>\n",
       "    </tr>\n",
       "    <tr>\n",
       "      <th>3</th>\n",
       "      <td>2010-07-02</td>\n",
       "      <td>1.533333</td>\n",
       "      <td>1.540000</td>\n",
       "      <td>1.247333</td>\n",
       "      <td>1.280000</td>\n",
       "      <td>1.280000</td>\n",
       "      <td>77097000</td>\n",
       "      <td>0.0</td>\n",
       "      <td>0.0</td>\n",
       "    </tr>\n",
       "    <tr>\n",
       "      <th>4</th>\n",
       "      <td>2010-07-06</td>\n",
       "      <td>1.333333</td>\n",
       "      <td>1.333333</td>\n",
       "      <td>1.055333</td>\n",
       "      <td>1.074000</td>\n",
       "      <td>1.074000</td>\n",
       "      <td>103003500</td>\n",
       "      <td>0.0</td>\n",
       "      <td>0.0</td>\n",
       "    </tr>\n",
       "  </tbody>\n",
       "</table>\n",
       "</div>"
      ],
      "text/plain": [
       "         Date      Open      High       Low     Close  Adj Close     Volume  \\\n",
       "0  2010-06-29  1.266667  1.666667  1.169333  1.592667   1.592667  281494500   \n",
       "1  2010-06-30  1.719333  2.028000  1.553333  1.588667   1.588667  257806500   \n",
       "2  2010-07-01  1.666667  1.728000  1.351333  1.464000   1.464000  123282000   \n",
       "3  2010-07-02  1.533333  1.540000  1.247333  1.280000   1.280000   77097000   \n",
       "4  2010-07-06  1.333333  1.333333  1.055333  1.074000   1.074000  103003500   \n",
       "\n",
       "   Dividends  Stock Splits  \n",
       "0        0.0           0.0  \n",
       "1        0.0           0.0  \n",
       "2        0.0           0.0  \n",
       "3        0.0           0.0  \n",
       "4        0.0           0.0  "
      ]
     },
     "execution_count": 3,
     "metadata": {},
     "output_type": "execute_result"
    }
   ],
   "source": [
    "data.head()"
   ]
  },
  {
   "cell_type": "code",
   "execution_count": 4,
   "metadata": {},
   "outputs": [
    {
     "name": "stdout",
     "output_type": "stream",
     "text": [
      "<class 'pandas.core.frame.DataFrame'>\n",
      "RangeIndex: 3545 entries, 0 to 3544\n",
      "Data columns (total 9 columns):\n",
      " #   Column        Non-Null Count  Dtype  \n",
      "---  ------        --------------  -----  \n",
      " 0   Date          3545 non-null   object \n",
      " 1   Open          3545 non-null   float64\n",
      " 2   High          3545 non-null   float64\n",
      " 3   Low           3545 non-null   float64\n",
      " 4   Close         3545 non-null   float64\n",
      " 5   Adj Close     3545 non-null   float64\n",
      " 6   Volume        3545 non-null   int64  \n",
      " 7   Dividends     3545 non-null   float64\n",
      " 8   Stock Splits  3545 non-null   float64\n",
      "dtypes: float64(7), int64(1), object(1)\n",
      "memory usage: 249.4+ KB\n"
     ]
    }
   ],
   "source": [
    "data.info()"
   ]
  },
  {
   "cell_type": "code",
   "execution_count": 5,
   "metadata": {},
   "outputs": [
    {
     "data": {
      "text/plain": [
       "(3545, 9)"
      ]
     },
     "execution_count": 5,
     "metadata": {},
     "output_type": "execute_result"
    }
   ],
   "source": [
    "data.shape"
   ]
  },
  {
   "cell_type": "markdown",
   "metadata": {},
   "source": [
    "Summary statistics"
   ]
  },
  {
   "cell_type": "code",
   "execution_count": 6,
   "metadata": {},
   "outputs": [
    {
     "data": {
      "text/html": [
       "<div>\n",
       "<style scoped>\n",
       "    .dataframe tbody tr th:only-of-type {\n",
       "        vertical-align: middle;\n",
       "    }\n",
       "\n",
       "    .dataframe tbody tr th {\n",
       "        vertical-align: top;\n",
       "    }\n",
       "\n",
       "    .dataframe thead th {\n",
       "        text-align: right;\n",
       "    }\n",
       "</style>\n",
       "<table border=\"1\" class=\"dataframe\">\n",
       "  <thead>\n",
       "    <tr style=\"text-align: right;\">\n",
       "      <th></th>\n",
       "      <th>Open</th>\n",
       "      <th>High</th>\n",
       "      <th>Low</th>\n",
       "      <th>Close</th>\n",
       "      <th>Adj Close</th>\n",
       "      <th>Volume</th>\n",
       "      <th>Dividends</th>\n",
       "      <th>Stock Splits</th>\n",
       "    </tr>\n",
       "  </thead>\n",
       "  <tbody>\n",
       "    <tr>\n",
       "      <th>count</th>\n",
       "      <td>3545.000000</td>\n",
       "      <td>3545.000000</td>\n",
       "      <td>3545.000000</td>\n",
       "      <td>3545.000000</td>\n",
       "      <td>3545.000000</td>\n",
       "      <td>3.545000e+03</td>\n",
       "      <td>3545.0</td>\n",
       "      <td>3545.000000</td>\n",
       "    </tr>\n",
       "    <tr>\n",
       "      <th>mean</th>\n",
       "      <td>75.505658</td>\n",
       "      <td>77.159237</td>\n",
       "      <td>73.743492</td>\n",
       "      <td>75.487264</td>\n",
       "      <td>75.487264</td>\n",
       "      <td>9.699708e+07</td>\n",
       "      <td>0.0</td>\n",
       "      <td>0.002257</td>\n",
       "    </tr>\n",
       "    <tr>\n",
       "      <th>std</th>\n",
       "      <td>102.530489</td>\n",
       "      <td>104.806516</td>\n",
       "      <td>100.051787</td>\n",
       "      <td>102.456615</td>\n",
       "      <td>102.456615</td>\n",
       "      <td>7.866828e+07</td>\n",
       "      <td>0.0</td>\n",
       "      <td>0.097921</td>\n",
       "    </tr>\n",
       "    <tr>\n",
       "      <th>min</th>\n",
       "      <td>1.076000</td>\n",
       "      <td>1.108667</td>\n",
       "      <td>0.998667</td>\n",
       "      <td>1.053333</td>\n",
       "      <td>1.053333</td>\n",
       "      <td>1.777500e+06</td>\n",
       "      <td>0.0</td>\n",
       "      <td>0.000000</td>\n",
       "    </tr>\n",
       "    <tr>\n",
       "      <th>25%</th>\n",
       "      <td>11.516667</td>\n",
       "      <td>11.861333</td>\n",
       "      <td>11.216667</td>\n",
       "      <td>11.565333</td>\n",
       "      <td>11.565333</td>\n",
       "      <td>4.770600e+07</td>\n",
       "      <td>0.0</td>\n",
       "      <td>0.000000</td>\n",
       "    </tr>\n",
       "    <tr>\n",
       "      <th>50%</th>\n",
       "      <td>17.463333</td>\n",
       "      <td>17.688667</td>\n",
       "      <td>17.100000</td>\n",
       "      <td>17.459333</td>\n",
       "      <td>17.459333</td>\n",
       "      <td>8.250600e+07</td>\n",
       "      <td>0.0</td>\n",
       "      <td>0.000000</td>\n",
       "    </tr>\n",
       "    <tr>\n",
       "      <th>75%</th>\n",
       "      <td>161.880005</td>\n",
       "      <td>165.333328</td>\n",
       "      <td>158.360001</td>\n",
       "      <td>161.479996</td>\n",
       "      <td>161.479996</td>\n",
       "      <td>1.228890e+08</td>\n",
       "      <td>0.0</td>\n",
       "      <td>0.000000</td>\n",
       "    </tr>\n",
       "    <tr>\n",
       "      <th>max</th>\n",
       "      <td>411.470001</td>\n",
       "      <td>414.496674</td>\n",
       "      <td>405.666656</td>\n",
       "      <td>409.970001</td>\n",
       "      <td>409.970001</td>\n",
       "      <td>9.140820e+08</td>\n",
       "      <td>0.0</td>\n",
       "      <td>5.000000</td>\n",
       "    </tr>\n",
       "  </tbody>\n",
       "</table>\n",
       "</div>"
      ],
      "text/plain": [
       "              Open         High          Low        Close    Adj Close  \\\n",
       "count  3545.000000  3545.000000  3545.000000  3545.000000  3545.000000   \n",
       "mean     75.505658    77.159237    73.743492    75.487264    75.487264   \n",
       "std     102.530489   104.806516   100.051787   102.456615   102.456615   \n",
       "min       1.076000     1.108667     0.998667     1.053333     1.053333   \n",
       "25%      11.516667    11.861333    11.216667    11.565333    11.565333   \n",
       "50%      17.463333    17.688667    17.100000    17.459333    17.459333   \n",
       "75%     161.880005   165.333328   158.360001   161.479996   161.479996   \n",
       "max     411.470001   414.496674   405.666656   409.970001   409.970001   \n",
       "\n",
       "             Volume  Dividends  Stock Splits  \n",
       "count  3.545000e+03     3545.0   3545.000000  \n",
       "mean   9.699708e+07        0.0      0.002257  \n",
       "std    7.866828e+07        0.0      0.097921  \n",
       "min    1.777500e+06        0.0      0.000000  \n",
       "25%    4.770600e+07        0.0      0.000000  \n",
       "50%    8.250600e+07        0.0      0.000000  \n",
       "75%    1.228890e+08        0.0      0.000000  \n",
       "max    9.140820e+08        0.0      5.000000  "
      ]
     },
     "execution_count": 6,
     "metadata": {},
     "output_type": "execute_result"
    }
   ],
   "source": [
    "data.describe()"
   ]
  },
  {
   "cell_type": "code",
   "execution_count": 7,
   "metadata": {},
   "outputs": [
    {
     "data": {
      "text/plain": [
       "Index(['Date', 'Open', 'High', 'Low', 'Close', 'Adj Close', 'Volume',\n",
       "       'Dividends', 'Stock Splits'],\n",
       "      dtype='object')"
      ]
     },
     "execution_count": 7,
     "metadata": {},
     "output_type": "execute_result"
    }
   ],
   "source": [
    "data.columns"
   ]
  },
  {
   "cell_type": "markdown",
   "metadata": {},
   "source": [
    "Looking for missing values"
   ]
  },
  {
   "cell_type": "code",
   "execution_count": 8,
   "metadata": {},
   "outputs": [
    {
     "data": {
      "text/plain": [
       "Date            0\n",
       "Open            0\n",
       "High            0\n",
       "Low             0\n",
       "Close           0\n",
       "Adj Close       0\n",
       "Volume          0\n",
       "Dividends       0\n",
       "Stock Splits    0\n",
       "dtype: int64"
      ]
     },
     "execution_count": 8,
     "metadata": {},
     "output_type": "execute_result"
    }
   ],
   "source": [
    "data.isnull().sum()"
   ]
  },
  {
   "cell_type": "markdown",
   "metadata": {},
   "source": [
    "Checking for outliers"
   ]
  },
  {
   "cell_type": "code",
   "execution_count": 9,
   "metadata": {},
   "outputs": [],
   "source": [
    "def outliers(c):\n",
    "  z_scores = (data[c] - data[c].mean()) / data[c].std()\n",
    "  outlier = data[np.abs(z_scores) > 3]\n",
    "  print(c,\" outliers\\n\",outlier[c], \"\\n\\n\")"
   ]
  },
  {
   "cell_type": "code",
   "execution_count": 10,
   "metadata": {},
   "outputs": [
    {
     "name": "stdout",
     "output_type": "stream",
     "text": [
      "Open  outliers\n",
      " 2857    386.453339\n",
      "2858    392.443329\n",
      "2859    411.470001\n",
      "2860    409.333344\n",
      "2861    383.263336\n",
      "2862    391.200012\n",
      "2871    387.443329\n",
      "2872    389.170013\n",
      "2877    386.899994\n",
      "2900    396.516663\n",
      "Name: Open, dtype: float64 \n",
      "\n",
      "\n",
      "High  outliers\n",
      " 2856    403.250000\n",
      "2857    402.863342\n",
      "2858    405.130005\n",
      "2859    414.496674\n",
      "2860    413.290009\n",
      "2861    399.000000\n",
      "2871    400.649994\n",
      "2872    393.500000\n",
      "2899    400.356659\n",
      "2900    402.666656\n",
      "Name: High, dtype: float64 \n",
      "\n",
      "\n",
      "Low  outliers\n",
      " 2857    382.000000\n",
      "2858    384.206665\n",
      "2859    405.666656\n",
      "2860    402.666656\n",
      "2861    377.666656\n",
      "2871    377.476654\n",
      "2899    378.679993\n",
      "2900    374.350006\n",
      "Name: Low, dtype: float64 \n",
      "\n",
      "\n",
      "Close  outliers\n",
      " 2856    402.863342\n",
      "2857    390.666656\n",
      "2858    404.619995\n",
      "2859    409.970001\n",
      "2860    407.363342\n",
      "2861    387.646667\n",
      "2871    385.623322\n",
      "2899    399.926666\n",
      "2900    383.196655\n",
      "Name: Close, dtype: float64 \n",
      "\n",
      "\n",
      "Volume  outliers\n",
      " 720     429075000\n",
      "721     376239000\n",
      "722     336253500\n",
      "723     557458500\n",
      "733     376492500\n",
      "          ...    \n",
      "2534    364927500\n",
      "2559    355395000\n",
      "2561    355123200\n",
      "2566    346397100\n",
      "2638    666378600\n",
      "Name: Volume, Length: 72, dtype: int64 \n",
      "\n",
      "\n"
     ]
    }
   ],
   "source": [
    "outliers(\"Open\")\n",
    "outliers(\"High\")\n",
    "outliers(\"Low\")\n",
    "outliers(\"Close\")\n",
    "outliers(\"Volume\")"
   ]
  }
 ],
 "metadata": {
  "kernelspec": {
   "display_name": "week1",
   "language": "python",
   "name": "python3"
  },
  "language_info": {
   "codemirror_mode": {
    "name": "ipython",
    "version": 3
   },
   "file_extension": ".py",
   "mimetype": "text/x-python",
   "name": "python",
   "nbconvert_exporter": "python",
   "pygments_lexer": "ipython3",
   "version": "3.12.5"
  }
 },
 "nbformat": 4,
 "nbformat_minor": 2
}
