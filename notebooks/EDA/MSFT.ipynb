{
 "cells": [
  {
   "cell_type": "code",
   "execution_count": 1,
   "metadata": {},
   "outputs": [],
   "source": [
    "import pandas as pd\n",
    "import numpy as np\n",
    "import seaborn as sns\n",
    "import matplotlib.pyplot as plt\n",
    "import matplotlib.cm as cm"
   ]
  },
  {
   "cell_type": "code",
   "execution_count": 2,
   "metadata": {},
   "outputs": [],
   "source": [
    "data = pd.read_csv(\"../../Data/yfinance_data/MSFT_historical_data.csv\")"
   ]
  },
  {
   "cell_type": "markdown",
   "metadata": {},
   "source": [
    "Getting basic information"
   ]
  },
  {
   "cell_type": "code",
   "execution_count": 3,
   "metadata": {},
   "outputs": [
    {
     "data": {
      "text/html": [
       "<div>\n",
       "<style scoped>\n",
       "    .dataframe tbody tr th:only-of-type {\n",
       "        vertical-align: middle;\n",
       "    }\n",
       "\n",
       "    .dataframe tbody tr th {\n",
       "        vertical-align: top;\n",
       "    }\n",
       "\n",
       "    .dataframe thead th {\n",
       "        text-align: right;\n",
       "    }\n",
       "</style>\n",
       "<table border=\"1\" class=\"dataframe\">\n",
       "  <thead>\n",
       "    <tr style=\"text-align: right;\">\n",
       "      <th></th>\n",
       "      <th>Date</th>\n",
       "      <th>Open</th>\n",
       "      <th>High</th>\n",
       "      <th>Low</th>\n",
       "      <th>Close</th>\n",
       "      <th>Adj Close</th>\n",
       "      <th>Volume</th>\n",
       "      <th>Dividends</th>\n",
       "      <th>Stock Splits</th>\n",
       "    </tr>\n",
       "  </thead>\n",
       "  <tbody>\n",
       "    <tr>\n",
       "      <th>0</th>\n",
       "      <td>1986-03-13</td>\n",
       "      <td>0.088542</td>\n",
       "      <td>0.101563</td>\n",
       "      <td>0.088542</td>\n",
       "      <td>0.097222</td>\n",
       "      <td>0.059946</td>\n",
       "      <td>1031788800</td>\n",
       "      <td>0.0</td>\n",
       "      <td>0.0</td>\n",
       "    </tr>\n",
       "    <tr>\n",
       "      <th>1</th>\n",
       "      <td>1986-03-14</td>\n",
       "      <td>0.097222</td>\n",
       "      <td>0.102431</td>\n",
       "      <td>0.097222</td>\n",
       "      <td>0.100694</td>\n",
       "      <td>0.062087</td>\n",
       "      <td>308160000</td>\n",
       "      <td>0.0</td>\n",
       "      <td>0.0</td>\n",
       "    </tr>\n",
       "    <tr>\n",
       "      <th>2</th>\n",
       "      <td>1986-03-17</td>\n",
       "      <td>0.100694</td>\n",
       "      <td>0.103299</td>\n",
       "      <td>0.100694</td>\n",
       "      <td>0.102431</td>\n",
       "      <td>0.063158</td>\n",
       "      <td>133171200</td>\n",
       "      <td>0.0</td>\n",
       "      <td>0.0</td>\n",
       "    </tr>\n",
       "    <tr>\n",
       "      <th>3</th>\n",
       "      <td>1986-03-18</td>\n",
       "      <td>0.102431</td>\n",
       "      <td>0.103299</td>\n",
       "      <td>0.098958</td>\n",
       "      <td>0.099826</td>\n",
       "      <td>0.061552</td>\n",
       "      <td>67766400</td>\n",
       "      <td>0.0</td>\n",
       "      <td>0.0</td>\n",
       "    </tr>\n",
       "    <tr>\n",
       "      <th>4</th>\n",
       "      <td>1986-03-19</td>\n",
       "      <td>0.099826</td>\n",
       "      <td>0.100694</td>\n",
       "      <td>0.097222</td>\n",
       "      <td>0.098090</td>\n",
       "      <td>0.060482</td>\n",
       "      <td>47894400</td>\n",
       "      <td>0.0</td>\n",
       "      <td>0.0</td>\n",
       "    </tr>\n",
       "  </tbody>\n",
       "</table>\n",
       "</div>"
      ],
      "text/plain": [
       "         Date      Open      High       Low     Close  Adj Close      Volume  \\\n",
       "0  1986-03-13  0.088542  0.101563  0.088542  0.097222   0.059946  1031788800   \n",
       "1  1986-03-14  0.097222  0.102431  0.097222  0.100694   0.062087   308160000   \n",
       "2  1986-03-17  0.100694  0.103299  0.100694  0.102431   0.063158   133171200   \n",
       "3  1986-03-18  0.102431  0.103299  0.098958  0.099826   0.061552    67766400   \n",
       "4  1986-03-19  0.099826  0.100694  0.097222  0.098090   0.060482    47894400   \n",
       "\n",
       "   Dividends  Stock Splits  \n",
       "0        0.0           0.0  \n",
       "1        0.0           0.0  \n",
       "2        0.0           0.0  \n",
       "3        0.0           0.0  \n",
       "4        0.0           0.0  "
      ]
     },
     "execution_count": 3,
     "metadata": {},
     "output_type": "execute_result"
    }
   ],
   "source": [
    "data.head()"
   ]
  },
  {
   "cell_type": "code",
   "execution_count": 4,
   "metadata": {},
   "outputs": [
    {
     "name": "stdout",
     "output_type": "stream",
     "text": [
      "<class 'pandas.core.frame.DataFrame'>\n",
      "RangeIndex: 9672 entries, 0 to 9671\n",
      "Data columns (total 9 columns):\n",
      " #   Column        Non-Null Count  Dtype  \n",
      "---  ------        --------------  -----  \n",
      " 0   Date          9672 non-null   object \n",
      " 1   Open          9672 non-null   float64\n",
      " 2   High          9672 non-null   float64\n",
      " 3   Low           9672 non-null   float64\n",
      " 4   Close         9672 non-null   float64\n",
      " 5   Adj Close     9672 non-null   float64\n",
      " 6   Volume        9672 non-null   int64  \n",
      " 7   Dividends     9672 non-null   float64\n",
      " 8   Stock Splits  9672 non-null   float64\n",
      "dtypes: float64(7), int64(1), object(1)\n",
      "memory usage: 680.2+ KB\n"
     ]
    }
   ],
   "source": [
    "data.info()"
   ]
  },
  {
   "cell_type": "code",
   "execution_count": 5,
   "metadata": {},
   "outputs": [
    {
     "data": {
      "text/plain": [
       "(9672, 9)"
      ]
     },
     "execution_count": 5,
     "metadata": {},
     "output_type": "execute_result"
    }
   ],
   "source": [
    "data.shape"
   ]
  },
  {
   "cell_type": "markdown",
   "metadata": {},
   "source": [
    "Summary statistics"
   ]
  },
  {
   "cell_type": "code",
   "execution_count": 6,
   "metadata": {},
   "outputs": [
    {
     "data": {
      "text/html": [
       "<div>\n",
       "<style scoped>\n",
       "    .dataframe tbody tr th:only-of-type {\n",
       "        vertical-align: middle;\n",
       "    }\n",
       "\n",
       "    .dataframe tbody tr th {\n",
       "        vertical-align: top;\n",
       "    }\n",
       "\n",
       "    .dataframe thead th {\n",
       "        text-align: right;\n",
       "    }\n",
       "</style>\n",
       "<table border=\"1\" class=\"dataframe\">\n",
       "  <thead>\n",
       "    <tr style=\"text-align: right;\">\n",
       "      <th></th>\n",
       "      <th>Open</th>\n",
       "      <th>High</th>\n",
       "      <th>Low</th>\n",
       "      <th>Close</th>\n",
       "      <th>Adj Close</th>\n",
       "      <th>Volume</th>\n",
       "      <th>Dividends</th>\n",
       "      <th>Stock Splits</th>\n",
       "    </tr>\n",
       "  </thead>\n",
       "  <tbody>\n",
       "    <tr>\n",
       "      <th>count</th>\n",
       "      <td>9672.000000</td>\n",
       "      <td>9672.000000</td>\n",
       "      <td>9672.000000</td>\n",
       "      <td>9672.000000</td>\n",
       "      <td>9672.000000</td>\n",
       "      <td>9.672000e+03</td>\n",
       "      <td>9672.000000</td>\n",
       "      <td>9672.000000</td>\n",
       "    </tr>\n",
       "    <tr>\n",
       "      <th>mean</th>\n",
       "      <td>58.402199</td>\n",
       "      <td>59.003071</td>\n",
       "      <td>57.784759</td>\n",
       "      <td>58.417683</td>\n",
       "      <td>52.719365</td>\n",
       "      <td>5.677678e+07</td>\n",
       "      <td>0.002982</td>\n",
       "      <td>0.001758</td>\n",
       "    </tr>\n",
       "    <tr>\n",
       "      <th>std</th>\n",
       "      <td>90.122302</td>\n",
       "      <td>90.958645</td>\n",
       "      <td>89.232546</td>\n",
       "      <td>90.146786</td>\n",
       "      <td>90.066461</td>\n",
       "      <td>3.814123e+07</td>\n",
       "      <td>0.046524</td>\n",
       "      <td>0.057944</td>\n",
       "    </tr>\n",
       "    <tr>\n",
       "      <th>min</th>\n",
       "      <td>0.088542</td>\n",
       "      <td>0.092014</td>\n",
       "      <td>0.088542</td>\n",
       "      <td>0.090278</td>\n",
       "      <td>0.055665</td>\n",
       "      <td>2.304000e+06</td>\n",
       "      <td>0.000000</td>\n",
       "      <td>0.000000</td>\n",
       "    </tr>\n",
       "    <tr>\n",
       "      <th>25%</th>\n",
       "      <td>5.695313</td>\n",
       "      <td>5.770508</td>\n",
       "      <td>5.617188</td>\n",
       "      <td>5.695313</td>\n",
       "      <td>3.511695</td>\n",
       "      <td>3.206982e+07</td>\n",
       "      <td>0.000000</td>\n",
       "      <td>0.000000</td>\n",
       "    </tr>\n",
       "    <tr>\n",
       "      <th>50%</th>\n",
       "      <td>27.304999</td>\n",
       "      <td>27.600000</td>\n",
       "      <td>27.085000</td>\n",
       "      <td>27.341875</td>\n",
       "      <td>19.145540</td>\n",
       "      <td>4.990225e+07</td>\n",
       "      <td>0.000000</td>\n",
       "      <td>0.000000</td>\n",
       "    </tr>\n",
       "    <tr>\n",
       "      <th>75%</th>\n",
       "      <td>46.687500</td>\n",
       "      <td>47.099998</td>\n",
       "      <td>46.138672</td>\n",
       "      <td>46.657187</td>\n",
       "      <td>38.339042</td>\n",
       "      <td>7.071788e+07</td>\n",
       "      <td>0.000000</td>\n",
       "      <td>0.000000</td>\n",
       "    </tr>\n",
       "    <tr>\n",
       "      <th>max</th>\n",
       "      <td>467.000000</td>\n",
       "      <td>468.350006</td>\n",
       "      <td>464.459991</td>\n",
       "      <td>467.559998</td>\n",
       "      <td>466.718781</td>\n",
       "      <td>1.031789e+09</td>\n",
       "      <td>3.080000</td>\n",
       "      <td>2.000000</td>\n",
       "    </tr>\n",
       "  </tbody>\n",
       "</table>\n",
       "</div>"
      ],
      "text/plain": [
       "              Open         High          Low        Close    Adj Close  \\\n",
       "count  9672.000000  9672.000000  9672.000000  9672.000000  9672.000000   \n",
       "mean     58.402199    59.003071    57.784759    58.417683    52.719365   \n",
       "std      90.122302    90.958645    89.232546    90.146786    90.066461   \n",
       "min       0.088542     0.092014     0.088542     0.090278     0.055665   \n",
       "25%       5.695313     5.770508     5.617188     5.695313     3.511695   \n",
       "50%      27.304999    27.600000    27.085000    27.341875    19.145540   \n",
       "75%      46.687500    47.099998    46.138672    46.657187    38.339042   \n",
       "max     467.000000   468.350006   464.459991   467.559998   466.718781   \n",
       "\n",
       "             Volume    Dividends  Stock Splits  \n",
       "count  9.672000e+03  9672.000000   9672.000000  \n",
       "mean   5.677678e+07     0.002982      0.001758  \n",
       "std    3.814123e+07     0.046524      0.057944  \n",
       "min    2.304000e+06     0.000000      0.000000  \n",
       "25%    3.206982e+07     0.000000      0.000000  \n",
       "50%    4.990225e+07     0.000000      0.000000  \n",
       "75%    7.071788e+07     0.000000      0.000000  \n",
       "max    1.031789e+09     3.080000      2.000000  "
      ]
     },
     "execution_count": 6,
     "metadata": {},
     "output_type": "execute_result"
    }
   ],
   "source": [
    "data.describe()"
   ]
  },
  {
   "cell_type": "code",
   "execution_count": 7,
   "metadata": {},
   "outputs": [
    {
     "data": {
      "text/plain": [
       "Index(['Date', 'Open', 'High', 'Low', 'Close', 'Adj Close', 'Volume',\n",
       "       'Dividends', 'Stock Splits'],\n",
       "      dtype='object')"
      ]
     },
     "execution_count": 7,
     "metadata": {},
     "output_type": "execute_result"
    }
   ],
   "source": [
    "data.columns"
   ]
  },
  {
   "cell_type": "markdown",
   "metadata": {},
   "source": [
    "Looking for missing values"
   ]
  },
  {
   "cell_type": "code",
   "execution_count": 8,
   "metadata": {},
   "outputs": [
    {
     "data": {
      "text/plain": [
       "Date            0\n",
       "Open            0\n",
       "High            0\n",
       "Low             0\n",
       "Close           0\n",
       "Adj Close       0\n",
       "Volume          0\n",
       "Dividends       0\n",
       "Stock Splits    0\n",
       "dtype: int64"
      ]
     },
     "execution_count": 8,
     "metadata": {},
     "output_type": "execute_result"
    }
   ],
   "source": [
    "data.isnull().sum()"
   ]
  },
  {
   "cell_type": "markdown",
   "metadata": {},
   "source": [
    "Checking for outliers"
   ]
  },
  {
   "cell_type": "code",
   "execution_count": 9,
   "metadata": {},
   "outputs": [],
   "source": [
    "def outliers(c):\n",
    "  z_scores = (data[c] - data[c].mean()) / data[c].std()\n",
    "  outlier = data[np.abs(z_scores) > 3]\n",
    "  print(c,\" outliers\\n\",outlier[c], \"\\n\\n\")"
   ]
  },
  {
   "cell_type": "code",
   "execution_count": 10,
   "metadata": {},
   "outputs": [
    {
     "name": "stdout",
     "output_type": "stream",
     "text": [
      "Open  outliers\n",
      " 8983    331.359985\n",
      "8984    330.309998\n",
      "8985    333.899994\n",
      "8986    332.890015\n",
      "8987    338.510010\n",
      "           ...    \n",
      "9667    440.450012\n",
      "9668    428.799988\n",
      "9669    418.200012\n",
      "9670    431.579987\n",
      "9671    427.720001\n",
      "Name: Open, Length: 295, dtype: float64 \n",
      "\n",
      "\n",
      "High  outliers\n",
      " 8982    332.000000\n",
      "8984    333.450012\n",
      "8985    334.899994\n",
      "8986    336.540009\n",
      "8987    338.790009\n",
      "           ...    \n",
      "9667    441.480011\n",
      "9668    429.799988\n",
      "9669    428.920013\n",
      "9670    432.149994\n",
      "9671    429.049988\n",
      "Name: High, Length: 297, dtype: float64 \n",
      "\n",
      "\n",
      "Low  outliers\n",
      " 8983    326.369995\n",
      "8984    330.000000\n",
      "8985    330.649994\n",
      "8986    329.510010\n",
      "8987    334.420013\n",
      "           ...    \n",
      "9667    427.589996\n",
      "9668    417.510010\n",
      "9669    417.269989\n",
      "9670    424.700012\n",
      "9671    417.359985\n",
      "Name: Low, Length: 293, dtype: float64 \n",
      "\n",
      "\n",
      "Close  outliers\n",
      " 8982    331.619995\n",
      "8983    329.369995\n",
      "8984    333.130005\n",
      "8985    334.000000\n",
      "8986    336.440002\n",
      "           ...    \n",
      "9667    428.899994\n",
      "9668    418.399994\n",
      "9669    425.269989\n",
      "9670    426.730011\n",
      "9671    422.920013\n",
      "Name: Close, Length: 289, dtype: float64 \n",
      "\n",
      "\n",
      "Volume  outliers\n",
      " 0       1031788800\n",
      "1        308160000\n",
      "178      173836800\n",
      "219      317894400\n",
      "233      185731200\n",
      "           ...    \n",
      "6104     176684100\n",
      "6338     319317900\n",
      "6896     248428500\n",
      "6921     225493800\n",
      "7191     202522400\n",
      "Name: Volume, Length: 130, dtype: int64 \n",
      "\n",
      "\n"
     ]
    }
   ],
   "source": [
    "outliers(\"Open\")\n",
    "outliers(\"High\")\n",
    "outliers(\"Low\")\n",
    "outliers(\"Close\")\n",
    "outliers(\"Volume\")"
   ]
  }
 ],
 "metadata": {
  "kernelspec": {
   "display_name": "week1",
   "language": "python",
   "name": "python3"
  },
  "language_info": {
   "codemirror_mode": {
    "name": "ipython",
    "version": 3
   },
   "file_extension": ".py",
   "mimetype": "text/x-python",
   "name": "python",
   "nbconvert_exporter": "python",
   "pygments_lexer": "ipython3",
   "version": "3.12.5"
  }
 },
 "nbformat": 4,
 "nbformat_minor": 2
}
